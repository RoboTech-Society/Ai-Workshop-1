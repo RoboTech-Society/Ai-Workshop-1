{
 "cells": [
  {
   "cell_type": "markdown",
   "id": "8e10b68e",
   "metadata": {},
   "source": [
    "# Introduction To Machine Learning\n",
    "\n",
    "###### Source: https://medium.com/@stavangandhi3008/introduction-to-machine-learning-0d9b5fa3bb93"
   ]
  }
 ],
 "metadata": {
  "kernelspec": {
   "display_name": "Python 3 (ipykernel)",
   "language": "python",
   "name": "python3"
  },
  "language_info": {
   "codemirror_mode": {
    "name": "ipython",
    "version": 3
   },
   "file_extension": ".py",
   "mimetype": "text/x-python",
   "name": "python",
   "nbconvert_exporter": "python",
   "pygments_lexer": "ipython3",
   "version": "3.12.6"
  }
 },
 "nbformat": 4,
 "nbformat_minor": 5
}
