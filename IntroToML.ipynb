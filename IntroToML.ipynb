{
 "cells": [
  {
   "cell_type": "markdown",
   "id": "8e10b68e",
   "metadata": {},
   "source": [
    "# Introduction To Machine Learning"
   ]
  },
  {
   "cell_type": "markdown",
   "id": "16a6d103",
   "metadata": {},
   "source": [
    "Link: https://medium.com/@stavangandhi3008/introduction-to-machine-learning-0d9b5fa3bb93"
   ]
  }
 ],
 "metadata": {
  "language_info": {
   "name": "python"
  }
 },
 "nbformat": 4,
 "nbformat_minor": 5
}
