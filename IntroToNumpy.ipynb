{
 "cells": [
  {
   "cell_type": "markdown",
   "id": "20999a6b-e3b9-4808-9f97-cb3f7fabb3ff",
   "metadata": {},
   "source": [
    "# Introduction To NumPy\n",
    "\n",
    "###### Source: https://www.w3schools.com/python/numpy"
   ]
  },
  {
   "cell_type": "markdown",
   "id": "2a940ac4-d49c-4f01-9e3e-5a6324e388a2",
   "metadata": {},
   "source": [
    "### What is NumPy?\n",
    "###### NumPy is a Python library used for working with arrays.\n",
    "###### It also has functions for working in domain of linear algebra, fourier transform, and matrices.\n",
    "###### NumPy was created in 2005 by Travis Oliphant. It is an open source project and you can use it freely.\n",
    "###### NumPy stands for Numerical Python."
   ]
  },
  {
   "cell_type": "markdown",
   "id": "e5e15460-84f0-4842-97ec-59f4132ced22",
   "metadata": {},
   "source": [
    "### Why Use NumPy?\n",
    "###### In Python we have lists that serve the purpose of arrays, but they are slow to process.\n",
    "###### NumPy aims to provide an array object that is up to 50x faster than traditional Python lists.\n",
    "###### The array object in NumPy is called ndarray, it provides a lot of supporting functions that make working with ndarray very easy.\n",
    "###### Arrays are very frequently used in data science, where speed and resources are very important."
   ]
  },
  {
   "cell_type": "markdown",
   "id": "fae64ddb-e306-4c3e-9081-0113a92adb74",
   "metadata": {},
   "source": [
    "### Why is NumPy Faster Than Lists?\n",
    "###### NumPy arrays are stored at one continuous place in memory unlike lists, so processes can access and manipulate them very efficiently.\n",
    "###### This behavior is called locality of reference in computer science.\n",
    "###### This is the main reason why NumPy is faster than lists. Also it is optimized to work with latest CPU architectures."
   ]
  },
  {
   "cell_type": "markdown",
   "id": "77748110-efa2-43cb-b0e4-147629a45013",
   "metadata": {},
   "source": [
    "### Which Language is NumPy written in?\n",
    "###### NumPy is a Python library and is written partially in Python, but most of the parts that require fast computation are written in C or C++."
   ]
  },
  {
   "cell_type": "markdown",
   "id": "32844688-df87-4dd3-b96a-b942265eaf7f",
   "metadata": {},
   "source": [
    "##### __________________________________________________________________________________________________________________________________"
   ]
  },
  {
   "cell_type": "markdown",
   "id": "d0cef1d8-e822-4d93-b5ba-160f4de945eb",
   "metadata": {},
   "source": [
    "## Import NumPy "
   ]
  },
  {
   "cell_type": "code",
   "execution_count": null,
   "id": "52c00d0f-b750-4b9c-90f6-2dfb96b69bb5",
   "metadata": {},
   "outputs": [],
   "source": [
    "# NumPy is usually imported under the np alias.\n",
    "import numpy as np\n",
    "\n",
    "print(np.__version__)"
   ]
  },
  {
   "cell_type": "markdown",
   "id": "9172d7ec-8ae4-46b2-be5c-426cde3299bd",
   "metadata": {},
   "source": [
    "## Create a NumPy ndarray Object"
   ]
  },
  {
   "cell_type": "markdown",
   "id": "dd8b076a-ffed-4aa1-beab-1d8e47fdf193",
   "metadata": {},
   "source": [
    "##### The array object in NumPy is called ndarray. We can create a NumPy ndarray object by using the array() function."
   ]
  },
  {
   "cell_type": "code",
   "execution_count": null,
   "id": "ea48fbc5-5e1d-4da3-b3d6-9c14e6967c45",
   "metadata": {},
   "outputs": [],
   "source": [
    "np.array([1, 2, 3, 4, 5])"
   ]
  },
  {
   "cell_type": "markdown",
   "id": "0af85b06-a578-41eb-b98f-2574404ac548",
   "metadata": {},
   "source": [
    "## Dimensions"
   ]
  },
  {
   "cell_type": "markdown",
   "id": "afe6c091-07aa-4973-9fd8-64d3d8408e79",
   "metadata": {},
   "source": [
    "#### 0-D Arrays\n",
    "##### 0-D arrays, or Scalars, are the elements in an array. Each value in an array is a 0-D array."
   ]
  },
  {
   "cell_type": "code",
   "execution_count": null,
   "id": "5ebc11ca-158a-4fa2-bd9c-9589bb91ebb3",
   "metadata": {},
   "outputs": [],
   "source": [
    "arr0 = np.array(42)\n",
    "arr0"
   ]
  },
  {
   "cell_type": "markdown",
   "id": "61121bc8-2a4b-47c1-9119-12f6065ba42d",
   "metadata": {},
   "source": [
    "#### 1-D Arrays\n",
    "##### An array that has 0-D arrays as its elements is called uni-dimensional or 1-D array. These are the most common and basic arrays."
   ]
  },
  {
   "cell_type": "code",
   "execution_count": null,
   "id": "05188a36-8c21-45a0-96a0-67342e916aba",
   "metadata": {},
   "outputs": [],
   "source": [
    "arr1 = np.array([1, 2, 3, 4, 5])\n",
    "arr1"
   ]
  },
  {
   "cell_type": "markdown",
   "id": "db997a6b-6597-4508-9f5f-d8c05ba4108f",
   "metadata": {},
   "source": [
    "#### 2-D Arrays\n",
    "##### An array that has 1-D arrays as its elements is called a 2-D array. These are often used to represent matrix or 2nd order tensors."
   ]
  },
  {
   "cell_type": "code",
   "execution_count": null,
   "id": "5080fb6b-2713-447e-b19c-326704b7329c",
   "metadata": {},
   "outputs": [],
   "source": [
    "arr2 = np.array([[1, 2, 3], [4, 5, 6]])\n",
    "arr2"
   ]
  },
  {
   "cell_type": "markdown",
   "id": "69d3dd9a-a1d3-4675-954d-7aab505629ca",
   "metadata": {},
   "source": [
    "#### 3-D arrays\n",
    "##### An array that has 2-D arrays (matrices) as its elements is called 3-D array. These are often used to represent a 3rd order tensor."
   ]
  },
  {
   "cell_type": "code",
   "execution_count": null,
   "id": "84dd9f09-c074-4adc-8a21-8153b001873c",
   "metadata": {},
   "outputs": [],
   "source": [
    "arr3 = np.array([[[1, 2, 3], [4, 5, 6]],[[1, 2, 3], [4, 5, 6]]])\n",
    "arr3"
   ]
  },
  {
   "cell_type": "markdown",
   "id": "bf358d96-1ac9-4b6b-8914-cb6fa65afb63",
   "metadata": {},
   "source": [
    "#### .ndmin\n",
    "##### When the array is created, you can define the number of dimensions by using the ndmin argument."
   ]
  },
  {
   "cell_type": "code",
   "execution_count": null,
   "id": "ec6762c2-db4f-449b-88bd-b89709eb87f4",
   "metadata": {},
   "outputs": [],
   "source": [
    "arr = np.array(0, ndmin=0)\n",
    "\n",
    "print(arr)\n",
    "print('number of dimensions :', arr.ndim)"
   ]
  },
  {
   "cell_type": "markdown",
   "id": "ff5be8ad-ce23-4852-bde5-e7f6b8ecabeb",
   "metadata": {},
   "source": [
    "## Array Indexing"
   ]
  },
  {
   "cell_type": "markdown",
   "id": "06200253-9997-49bd-821c-6ae65ff050f7",
   "metadata": {},
   "source": [
    "#### Access 1-D Arrays"
   ]
  },
  {
   "cell_type": "code",
   "execution_count": null,
   "id": "7d02b7ad-bf01-4977-9649-20e6e4bb4902",
   "metadata": {},
   "outputs": [],
   "source": [
    "arr1 = np.array([1, 2, 3, 4, 5, 6, 7])\n",
    "\n",
    "print(arr1[0]) # To access 1st element"
   ]
  },
  {
   "cell_type": "markdown",
   "id": "688175fb-404d-4fa0-adc0-65ddac49334d",
   "metadata": {},
   "source": [
    "#### Access 2-D Arrays"
   ]
  },
  {
   "cell_type": "code",
   "execution_count": null,
   "id": "fee2eb99-e893-4a75-bf7e-35698d7d7f45",
   "metadata": {},
   "outputs": [],
   "source": [
    "arr2 = np.array([[1, 2, 3, 4, 5], [6, 7, 8, 9, 10]])\n",
    "\n",
    "print(arr2[0, 1]) # To access 2nd element on 1st row"
   ]
  },
  {
   "cell_type": "code",
   "execution_count": null,
   "id": "11cbbe50",
   "metadata": {},
   "outputs": [],
   "source": [
    "print(arr2[1, -1]) # To access last element on 2nd row"
   ]
  },
  {
   "cell_type": "markdown",
   "id": "1e11125e",
   "metadata": {},
   "source": [
    "#### Access 3-D Arrays"
   ]
  },
  {
   "cell_type": "code",
   "execution_count": null,
   "id": "66cbb5a1-3ba2-4b02-85df-cfa5aca6db14",
   "metadata": {},
   "outputs": [],
   "source": [
    "arr3 = np.array([[[1, 2, 3], [4, 5, 6]],[[7, 8, 9], [10, 11, 12]]])\n",
    "\n",
    "print(arr3[0, 1, 2]) # To access 3nd element on 2th row of 1st row."
   ]
  },
  {
   "cell_type": "code",
   "execution_count": null,
   "id": "b1f01519",
   "metadata": {
    "scrolled": true
   },
   "outputs": [],
   "source": [
    "# print(\"\\n\", \"--\"*6, \"\\narr:\\n\\n\", arr)\n",
    "# print(\"\\n\", \"--\"*6, \"\\narr[0]:\\n\\n\", arr[0])\n",
    "# print(\"\\n\", \"--\"*6, \"\\narr[0, 1]:\\n\\n\", arr[0, 1])\n",
    "# print(\"\\n\", \"--\"*6, \"\\narr[0, 1, 2]:\\n\\n\", arr[0, 1, 2])"
   ]
  },
  {
   "cell_type": "markdown",
   "id": "c4abb9f3",
   "metadata": {},
   "source": [
    "## Array Slicing"
   ]
  },
  {
   "cell_type": "markdown",
   "id": "ecdb1cb8",
   "metadata": {},
   "source": [
    "#### Access 1-D Arrays"
   ]
  },
  {
   "cell_type": "code",
   "execution_count": null,
   "id": "a31252b2-7bc4-4a6b-a625-96111194cb9b",
   "metadata": {},
   "outputs": [],
   "source": [
    "arr1 = np.array([1, 2, 3, 4, 5, 6, 7])\n",
    "\n",
    "print(arr1[4:])\n",
    "print(arr1[:5])\n",
    "print(arr1[1:5:2])"
   ]
  },
  {
   "cell_type": "markdown",
   "id": "c80f2672",
   "metadata": {},
   "source": [
    "#### Access 2-D Arrays"
   ]
  },
  {
   "cell_type": "code",
   "execution_count": null,
   "id": "083a3c9e-d20b-4b60-94e0-1a2d9a0a3f83",
   "metadata": {},
   "outputs": [],
   "source": [
    "arr2 = np.array([[1, 2, 3, 4, 5], [6, 7, 8, 9, 10]])\n",
    "\n",
    "print(arr2[1, 1:4])   # arr[1][1:4]\n",
    "print(arr2[0:2, 2])   # arr[0:2][2]\n",
    "print(arr2[0:2, 1:4]) # arr[0:2][0:4]"
   ]
  },
  {
   "cell_type": "markdown",
   "id": "24d63e54",
   "metadata": {},
   "source": [
    "#### Access 3-D Arrays"
   ]
  },
  {
   "cell_type": "code",
   "execution_count": null,
   "id": "495fed8e-e6d9-4e7c-a596-f0bd01c1ce4e",
   "metadata": {},
   "outputs": [],
   "source": [
    "arr3 = np.array([[[1, 2, 3], [4, 5, 6]],[[7, 8, 9], [10, 11, 12]]])\n",
    "\n",
    "print(arr3[0, 1, 0:2])"
   ]
  },
  {
   "cell_type": "markdown",
   "id": "9240d081",
   "metadata": {},
   "source": [
    "## Shape, Reshape and Transpose\n",
    "###### The shape of an array is the number of elements in each dimension."
   ]
  },
  {
   "cell_type": "markdown",
   "id": "77a48d5a",
   "metadata": {},
   "source": [
    "#### Get the Shape of an Array"
   ]
  },
  {
   "cell_type": "code",
   "execution_count": null,
   "id": "31b36b4d-a8fc-4c85-96c7-8f9cff5c70e0",
   "metadata": {},
   "outputs": [],
   "source": [
    "arr = np.array([[1, 2, 3, 4], [5, 6, 7, 8]])\n",
    "\n",
    "print(arr.shape)"
   ]
  },
  {
   "cell_type": "code",
   "execution_count": null,
   "id": "d374e6bd-0e73-4c8d-8fa6-96e7e28e84be",
   "metadata": {},
   "outputs": [],
   "source": [
    "arr = np.array([1, 2, 3, 4], ndmin=5)\n",
    "\n",
    "print(arr)\n",
    "print('shape of array :', arr.shape)"
   ]
  },
  {
   "cell_type": "markdown",
   "id": "c16803c9",
   "metadata": {},
   "source": [
    "#### Reshape arrays"
   ]
  },
  {
   "cell_type": "code",
   "execution_count": null,
   "id": "391f9ee0",
   "metadata": {
    "scrolled": true
   },
   "outputs": [],
   "source": [
    "arr = np.array([1, 2, 3, 4, 5, 6, 7, 8, 9, 10, 11, 12])\n",
    "\n",
    "arr"
   ]
  },
  {
   "cell_type": "code",
   "execution_count": null,
   "id": "ea16f8d2-3aa4-474f-a0aa-8f0b489e6e9d",
   "metadata": {},
   "outputs": [],
   "source": [
    "arr.reshape(4, 3)"
   ]
  },
  {
   "cell_type": "code",
   "execution_count": null,
   "id": "4538e791-fb92-417f-94c8-e0680210d6b8",
   "metadata": {},
   "outputs": [],
   "source": [
    "arr.reshape(2, 3, 2)"
   ]
  },
  {
   "cell_type": "markdown",
   "id": "20e3c252-5386-453f-a1fc-65c80693a431",
   "metadata": {},
   "source": [
    "#### Transpose Array"
   ]
  },
  {
   "cell_type": "code",
   "execution_count": null,
   "id": "df5c35d8-62e4-4faa-9b62-a27d0422d90b",
   "metadata": {},
   "outputs": [],
   "source": [
    "arr = np.array([[1, 2, 3], [4, 5, 6]])      \n",
    "\n",
    "print(arr, arr.shape)"
   ]
  },
  {
   "cell_type": "code",
   "execution_count": null,
   "id": "adc05dff-ba88-4db9-b4b2-f271f71f280f",
   "metadata": {},
   "outputs": [],
   "source": [
    "transposed_array = arr.T\n",
    "\n",
    "print(transposed_array, transposed_array.shape)"
   ]
  },
  {
   "cell_type": "markdown",
   "id": "dd29bfcb-46ac-4107-b334-1143d27c6730",
   "metadata": {},
   "source": [
    "## Simple Arithmetic"
   ]
  },
  {
   "cell_type": "markdown",
   "id": "670766d1",
   "metadata": {},
   "source": [
    "### Addition"
   ]
  },
  {
   "cell_type": "code",
   "execution_count": null,
   "id": "91d67e53-6775-40a0-93bc-838164fd1338",
   "metadata": {},
   "outputs": [],
   "source": [
    "arr1 = np.array([10, 11, 12, 13, 14, 15])\n",
    "arr2 = np.array([20, 21, 22, 23, 24, 25])\n",
    "\n",
    "np.add(arr1, arr2) "
   ]
  },
  {
   "cell_type": "markdown",
   "id": "47bf7665",
   "metadata": {},
   "source": [
    "### Subtraction"
   ]
  },
  {
   "cell_type": "code",
   "execution_count": null,
   "id": "a9a996cb",
   "metadata": {},
   "outputs": [],
   "source": [
    "np.subtract(arr1, arr2)"
   ]
  },
  {
   "cell_type": "markdown",
   "id": "f0d984af",
   "metadata": {},
   "source": [
    "### Multiplication"
   ]
  },
  {
   "cell_type": "code",
   "execution_count": null,
   "id": "923d6528",
   "metadata": {},
   "outputs": [],
   "source": [
    "np.multiply(arr1, arr2)"
   ]
  },
  {
   "cell_type": "markdown",
   "id": "e6c0942c",
   "metadata": {},
   "source": [
    "### Division"
   ]
  },
  {
   "cell_type": "code",
   "execution_count": null,
   "id": "0bf52271",
   "metadata": {},
   "outputs": [],
   "source": [
    "np.divide(arr1, arr2)"
   ]
  },
  {
   "cell_type": "markdown",
   "id": "88b1d9c1",
   "metadata": {},
   "source": [
    "### Power"
   ]
  },
  {
   "cell_type": "code",
   "execution_count": null,
   "id": "bdafca77",
   "metadata": {},
   "outputs": [],
   "source": [
    "np.power(arr1, arr2)"
   ]
  },
  {
   "cell_type": "markdown",
   "id": "08073cbc",
   "metadata": {},
   "source": [
    "### Dot"
   ]
  },
  {
   "cell_type": "code",
   "execution_count": null,
   "id": "77aeaa43",
   "metadata": {},
   "outputs": [],
   "source": [
    "np.dot(arr1, arr2)"
   ]
  },
  {
   "cell_type": "markdown",
   "id": "7cd9b51c-c8a8-473b-b353-6c7685755bcd",
   "metadata": {},
   "source": [
    "## "
   ]
  },
  {
   "cell_type": "markdown",
   "id": "faccb254",
   "metadata": {},
   "source": [
    "##### You can find additional information and examples at: https://www.w3schools.com/python/numpy"
   ]
  },
  {
   "cell_type": "markdown",
   "id": "70dd49f2",
   "metadata": {},
   "source": []
  }
 ],
 "metadata": {
  "kernelspec": {
   "display_name": "Python 3",
   "language": "python",
   "name": "python3"
  },
  "language_info": {
   "codemirror_mode": {
    "name": "ipython",
    "version": 3
   },
   "file_extension": ".py",
   "mimetype": "text/x-python",
   "name": "python",
   "nbconvert_exporter": "python",
   "pygments_lexer": "ipython3",
   "version": "3.10.16"
  }
 },
 "nbformat": 4,
 "nbformat_minor": 5
}
