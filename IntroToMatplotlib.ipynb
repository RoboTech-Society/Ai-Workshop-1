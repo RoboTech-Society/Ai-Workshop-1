{
 "cells": [
  {
   "cell_type": "markdown",
   "id": "f375b9b3",
   "metadata": {},
   "source": [
    "# Introduction To Matplotlib\n",
    "\n",
    "###### Source: https://www.w3schools.com/python/matplotlib_intro.asp"
   ]
  },
  {
   "cell_type": "markdown",
   "id": "f4ff7f89",
   "metadata": {},
   "source": [
    "### What is Matplotlib?\n",
    "###### Matplotlib is a low level graph plotting library in python that serves as a visualization utility.\n",
    "###### Matplotlib was created by John D. Hunter.\n",
    "###### Matplotlib is open source and we can use it freely.\n",
    "###### Matplotlib is mostly written in python, a few segments are written in C, Objective-C and Javascript for Platform compatibility."
   ]
  },
  {
   "cell_type": "markdown",
   "id": "3add75d6",
   "metadata": {},
   "source": [
    "##### __________________________________________________________________________________________________________________________________"
   ]
  },
  {
   "cell_type": "markdown",
   "id": "69b9c4ec",
   "metadata": {},
   "source": [
    "## Import Matplotlib "
   ]
  },
  {
   "cell_type": "code",
   "execution_count": null,
   "id": "f3453781",
   "metadata": {},
   "outputs": [],
   "source": [
    "# Most of the Matplotlib utilities lies under the pyplot submodule, and are usually imported under the plt alias.\n",
    "import matplotlib.pyplot as plt\n",
    "import numpy as np\n",
    "import matplotlib\n",
    "\n",
    "print(matplotlib.__version__)\n",
    "print(np.__version__)"
   ]
  },
  {
   "cell_type": "markdown",
   "id": "63fbf4f3",
   "metadata": {},
   "source": [
    "## Pyplot"
   ]
  },
  {
   "cell_type": "markdown",
   "id": "e4f9e180",
   "metadata": {},
   "source": [
    "##### Draw a line in a diagram from position (0,0) to position (6,250):"
   ]
  },
  {
   "cell_type": "code",
   "execution_count": null,
   "id": "009a3981",
   "metadata": {},
   "outputs": [],
   "source": [
    "xpoints = np.array([0, 6])\n",
    "ypoints = np.array([0, 250])\n",
    "\n",
    "plt.plot(xpoints, ypoints)\n",
    "plt.show()"
   ]
  },
  {
   "cell_type": "markdown",
   "id": "236ee218",
   "metadata": {},
   "source": [
    "##### Draw two points in the diagram, one at position (1, 3) and one in position (8, 10): "
   ]
  },
  {
   "cell_type": "code",
   "execution_count": null,
   "id": "87b40c18",
   "metadata": {},
   "outputs": [],
   "source": [
    "xpoints = np.array([1, 8])\n",
    "ypoints = np.array([3, 10])\n",
    "\n",
    "plt.plot(xpoints, ypoints, 'o')\n",
    "plt.show()"
   ]
  },
  {
   "cell_type": "markdown",
   "id": "c9cdc738",
   "metadata": {},
   "source": [
    "##### Draw a line in a diagram from position (1, 3) to (2, 8) then to (6, 1) and finally to position (8, 10):"
   ]
  },
  {
   "cell_type": "code",
   "execution_count": null,
   "id": "9b48c581",
   "metadata": {},
   "outputs": [],
   "source": [
    "xpoints = np.array([1, 2, 6, 8])\n",
    "ypoints = np.array([3, 8, 1, 10])\n",
    "\n",
    "plt.plot(xpoints, ypoints)\n",
    "plt.show()"
   ]
  },
  {
   "cell_type": "markdown",
   "id": "d850f8f4",
   "metadata": {},
   "source": [
    "## Marker"
   ]
  },
  {
   "cell_type": "code",
   "execution_count": null,
   "id": "e6e359d7",
   "metadata": {},
   "outputs": [],
   "source": [
    "ypoints = np.array([3, 8, 1, 10])\n",
    "\n",
    "plt.plot(ypoints, marker = 'o')\n",
    "plt.show()"
   ]
  },
  {
   "cell_type": "markdown",
   "id": "def64b6f",
   "metadata": {},
   "source": [
    "###### More info here: https://www.w3schools.com/python/matplotlib_markers.asp"
   ]
  },
  {
   "cell_type": "markdown",
   "id": "0e2eb171",
   "metadata": {},
   "source": [
    "## Line"
   ]
  },
  {
   "cell_type": "code",
   "execution_count": null,
   "id": "af08c03a",
   "metadata": {},
   "outputs": [],
   "source": [
    "ypoints = np.array([3, 8, 1, 10])\n",
    "\n",
    "plt.plot(ypoints, linestyle = 'dotted')\n",
    "plt.show()"
   ]
  },
  {
   "cell_type": "markdown",
   "id": "8a8b57c0",
   "metadata": {},
   "source": [
    "###### More info here: https://www.w3schools.com/python/matplotlib_line.asp"
   ]
  },
  {
   "cell_type": "markdown",
   "id": "aafb2821",
   "metadata": {},
   "source": [
    "## Labels"
   ]
  },
  {
   "cell_type": "code",
   "execution_count": null,
   "id": "b9fe9225",
   "metadata": {},
   "outputs": [],
   "source": [
    "x = np.array([80, 85, 90, 95, 100, 105, 110, 115, 120, 125])\n",
    "y = np.array([240, 250, 260, 270, 280, 290, 300, 310, 320, 330])\n",
    "\n",
    "plt.plot(x, y)\n",
    "\n",
    "plt.title(\"Sports Watch Data\")\n",
    "plt.xlabel(\"Average Pulse\")\n",
    "plt.ylabel(\"Calorie Burnage\")\n",
    "\n",
    "plt.show()"
   ]
  },
  {
   "cell_type": "markdown",
   "id": "d77965f5",
   "metadata": {},
   "source": [
    "###### More info here: https://www.w3schools.com/python/matplotlib_labels.asp"
   ]
  },
  {
   "cell_type": "markdown",
   "id": "3dab31d4",
   "metadata": {},
   "source": [
    "## Grid"
   ]
  },
  {
   "cell_type": "code",
   "execution_count": null,
   "id": "f0dcc6e2",
   "metadata": {},
   "outputs": [],
   "source": [
    "x = np.array([80, 85, 90, 95, 100, 105, 110, 115, 120, 125])\n",
    "y = np.array([240, 250, 260, 270, 280, 290, 300, 310, 320, 330])\n",
    "\n",
    "plt.title(\"Sports Watch Data\")\n",
    "plt.xlabel(\"Average Pulse\")\n",
    "plt.ylabel(\"Calorie Burnage\")\n",
    "\n",
    "plt.plot(x, y)\n",
    "\n",
    "plt.grid() # axis = 'x' or axis = 'y'\n",
    "\n",
    "plt.show()"
   ]
  },
  {
   "cell_type": "markdown",
   "id": "4c5f365b",
   "metadata": {},
   "source": [
    "###### More info here: https://www.w3schools.com/python/matplotlib_grid.asp"
   ]
  },
  {
   "cell_type": "markdown",
   "id": "441569bf",
   "metadata": {},
   "source": [
    "## Scatter"
   ]
  },
  {
   "cell_type": "code",
   "execution_count": null,
   "id": "53b44c7f",
   "metadata": {},
   "outputs": [],
   "source": [
    "x = np.array([5,7,8,7,2,17,2,9,4,11,12,9,6])\n",
    "y = np.array([99,86,87,88,111,86,103,87,94,78,77,85,86])\n",
    "plt.scatter(x, y, color = 'red')\n",
    "\n",
    "x = np.array([2,2,8,1,15,8,12,9,7,3,11,4,7,14,12])\n",
    "y = np.array([100,105,84,105,90,99,90,95,94,100,79,112,91,80,85])\n",
    "plt.scatter(x, y, color = 'green')\n",
    "\n",
    "plt.show()"
   ]
  },
  {
   "cell_type": "markdown",
   "id": "e421f748",
   "metadata": {},
   "source": [
    "###### More info here: https://www.w3schools.com/python/matplotlib_scatter.asp"
   ]
  },
  {
   "cell_type": "markdown",
   "id": "6dc3c205",
   "metadata": {},
   "source": [
    "## "
   ]
  },
  {
   "cell_type": "markdown",
   "id": "aac57a0b",
   "metadata": {},
   "source": [
    "##### You can find additional information and examples at: https://www.w3schools.com/python/matplotlib_intro.asp"
   ]
  }
 ],
 "metadata": {
  "kernelspec": {
   "display_name": "Python 3 (ipykernel)",
   "language": "python",
   "name": "python3"
  },
  "language_info": {
   "codemirror_mode": {
    "name": "ipython",
    "version": 3
   },
   "file_extension": ".py",
   "mimetype": "text/x-python",
   "name": "python",
   "nbconvert_exporter": "python",
   "pygments_lexer": "ipython3",
   "version": "3.12.6"
  }
 },
 "nbformat": 4,
 "nbformat_minor": 5
}
